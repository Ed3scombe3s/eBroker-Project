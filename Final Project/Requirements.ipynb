{
 "cells": [
  {
   "cell_type": "code",
   "execution_count": null,
   "metadata": {},
   "outputs": [],
   "source": [
    "import sys\n",
    "!{sys.executable} -m pip install -U yfinance plotly bcrypt mpl-finance prettytable"
   ]
  }
 ],
 "metadata": {
  "kernelspec": {
   "display_name": "Python 3.10.6 64-bit",
   "language": "python",
   "name": "python3"
  },
  "language_info": {
   "name": "python",
   "version": "3.10.6"
  },
  "orig_nbformat": 4,
  "vscode": {
   "interpreter": {
    "hash": "fa5f0118e41d4bd42c43988dca6b1bb790d8a25585791c6f8021e6bf35ef9e48"
   }
  }
 },
 "nbformat": 4,
 "nbformat_minor": 2
}
