{
 "cells": [
  {
   "cell_type": "code",
   "execution_count": 1,
   "metadata": {},
   "outputs": [
    {
     "name": "stdout",
     "output_type": "stream",
     "text": [
      "Requirement already satisfied: yfinance in c:\\users\\etienne\\appdata\\local\\programs\\python\\python310\\lib\\site-packages (0.1.85)\n",
      "Collecting yfinance\n",
      "  Downloading yfinance-0.1.87-py2.py3-none-any.whl (29 kB)\n",
      "Requirement already satisfied: plotly in c:\\users\\etienne\\appdata\\local\\programs\\python\\python310\\lib\\site-packages (5.11.0)\n",
      "Requirement already satisfied: bcrypt in c:\\users\\etienne\\appdata\\local\\programs\\python\\python310\\lib\\site-packages (4.0.1)\n",
      "Collecting mpl-finance\n",
      "  Using cached mpl_finance-0.10.1-py3-none-any.whl (8.4 kB)\n",
      "Requirement already satisfied: appdirs>=1.4.4 in c:\\users\\etienne\\appdata\\local\\programs\\python\\python310\\lib\\site-packages (from yfinance) (1.4.4)\n",
      "Requirement already satisfied: requests>=2.26 in c:\\users\\etienne\\appdata\\local\\programs\\python\\python310\\lib\\site-packages (from yfinance) (2.28.1)\n",
      "Requirement already satisfied: pandas>=0.24.0 in c:\\users\\etienne\\appdata\\local\\programs\\python\\python310\\lib\\site-packages (from yfinance) (1.5.1)\n",
      "Requirement already satisfied: multitasking>=0.0.7 in c:\\users\\etienne\\appdata\\local\\programs\\python\\python310\\lib\\site-packages (from yfinance) (0.0.11)\n",
      "Requirement already satisfied: numpy>=1.15 in c:\\users\\etienne\\appdata\\local\\programs\\python\\python310\\lib\\site-packages (from yfinance) (1.23.4)\n",
      "Requirement already satisfied: lxml>=4.5.1 in c:\\users\\etienne\\appdata\\local\\programs\\python\\python310\\lib\\site-packages (from yfinance) (4.9.1)\n",
      "Requirement already satisfied: tenacity>=6.2.0 in c:\\users\\etienne\\appdata\\local\\programs\\python\\python310\\lib\\site-packages (from plotly) (8.1.0)\n",
      "Requirement already satisfied: matplotlib in c:\\users\\etienne\\appdata\\local\\programs\\python\\python310\\lib\\site-packages (from mpl-finance) (3.6.0)\n",
      "Requirement already satisfied: pytz>=2020.1 in c:\\users\\etienne\\appdata\\local\\programs\\python\\python310\\lib\\site-packages (from pandas>=0.24.0->yfinance) (2022.5)\n",
      "Requirement already satisfied: python-dateutil>=2.8.1 in c:\\users\\etienne\\appdata\\roaming\\python\\python310\\site-packages (from pandas>=0.24.0->yfinance) (2.8.2)\n",
      "Requirement already satisfied: certifi>=2017.4.17 in c:\\users\\etienne\\appdata\\local\\programs\\python\\python310\\lib\\site-packages (from requests>=2.26->yfinance) (2022.9.24)\n",
      "Requirement already satisfied: urllib3<1.27,>=1.21.1 in c:\\users\\etienne\\appdata\\local\\programs\\python\\python310\\lib\\site-packages (from requests>=2.26->yfinance) (1.26.12)\n",
      "Requirement already satisfied: charset-normalizer<3,>=2 in c:\\users\\etienne\\appdata\\local\\programs\\python\\python310\\lib\\site-packages (from requests>=2.26->yfinance) (2.1.1)\n",
      "Requirement already satisfied: idna<4,>=2.5 in c:\\users\\etienne\\appdata\\local\\programs\\python\\python310\\lib\\site-packages (from requests>=2.26->yfinance) (3.4)\n",
      "Requirement already satisfied: pyparsing>=2.2.1 in c:\\users\\etienne\\appdata\\roaming\\python\\python310\\site-packages (from matplotlib->mpl-finance) (3.0.9)\n",
      "Requirement already satisfied: fonttools>=4.22.0 in c:\\users\\etienne\\appdata\\local\\programs\\python\\python310\\lib\\site-packages (from matplotlib->mpl-finance) (4.37.4)\n",
      "Requirement already satisfied: cycler>=0.10 in c:\\users\\etienne\\appdata\\local\\programs\\python\\python310\\lib\\site-packages (from matplotlib->mpl-finance) (0.11.0)\n",
      "Requirement already satisfied: kiwisolver>=1.0.1 in c:\\users\\etienne\\appdata\\local\\programs\\python\\python310\\lib\\site-packages (from matplotlib->mpl-finance) (1.4.4)\n",
      "Requirement already satisfied: pillow>=6.2.0 in c:\\users\\etienne\\appdata\\local\\programs\\python\\python310\\lib\\site-packages (from matplotlib->mpl-finance) (9.2.0)\n",
      "Requirement already satisfied: packaging>=20.0 in c:\\users\\etienne\\appdata\\roaming\\python\\python310\\site-packages (from matplotlib->mpl-finance) (21.3)\n",
      "Requirement already satisfied: contourpy>=1.0.1 in c:\\users\\etienne\\appdata\\local\\programs\\python\\python310\\lib\\site-packages (from matplotlib->mpl-finance) (1.0.5)\n",
      "Requirement already satisfied: six>=1.5 in c:\\users\\etienne\\appdata\\roaming\\python\\python310\\site-packages (from python-dateutil>=2.8.1->pandas>=0.24.0->yfinance) (1.16.0)\n",
      "Installing collected packages: yfinance, mpl-finance\n",
      "  Attempting uninstall: yfinance\n",
      "    Found existing installation: yfinance 0.1.85\n",
      "    Uninstalling yfinance-0.1.85:\n",
      "      Successfully uninstalled yfinance-0.1.85\n",
      "Successfully installed mpl-finance-0.10.1 yfinance-0.1.87\n"
     ]
    },
    {
     "name": "stderr",
     "output_type": "stream",
     "text": [
      "\n",
      "[notice] A new release of pip available: 22.2.1 -> 22.3.1\n",
      "[notice] To update, run: python.exe -m pip install --upgrade pip\n"
     ]
    }
   ],
   "source": [
    "import sys\n",
    "!{sys.executable} -m pip install -U yfinance plotly bcrypt mpl-finance"
   ]
  }
 ],
 "metadata": {
  "kernelspec": {
   "display_name": "Python 3.10.6 64-bit",
   "language": "python",
   "name": "python3"
  },
  "language_info": {
   "codemirror_mode": {
    "name": "ipython",
    "version": 3
   },
   "file_extension": ".py",
   "mimetype": "text/x-python",
   "name": "python",
   "nbconvert_exporter": "python",
   "pygments_lexer": "ipython3",
   "version": "3.10.6"
  },
  "orig_nbformat": 4,
  "vscode": {
   "interpreter": {
    "hash": "fa5f0118e41d4bd42c43988dca6b1bb790d8a25585791c6f8021e6bf35ef9e48"
   }
  }
 },
 "nbformat": 4,
 "nbformat_minor": 2
}
